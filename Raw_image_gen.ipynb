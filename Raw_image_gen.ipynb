{
 "cells": [
  {
   "cell_type": "code",
   "execution_count": 1,
   "metadata": {},
   "outputs": [],
   "source": [
    "import numpy as np\n",
    "import cv2"
   ]
  },
  {
   "cell_type": "markdown",
   "metadata": {},
   "source": [
    "<div class=\"alert alert-block alert-info\">\n",
    "<h3 class=\"alert-heading\">Random image generation</h3>\n",
    "</div>"
   ]
  },
  {
   "cell_type": "code",
   "execution_count": 4,
   "metadata": {},
   "outputs": [],
   "source": [
    "#Create background\n",
    "img = np.full((2560,2560), np.random.randint(230,255),dtype = np.uint8)\n",
    "\n",
    "nb_speckles = np.random.randint(5e3,7e3)\n",
    "\n",
    "i=0\n",
    "while(i<nb_speckles):\n",
    "\n",
    "    #random ellipse parameters\n",
    "    center_val = (np.random.randint(0,2560),np.random.randint(0,2560))\n",
    "    axis_len = (np.random.randint(8,18),np.random.randint(8,18))\n",
    "    color_val = np.random.randint(0,90)\n",
    "    \n",
    "    #draw the ellipse\n",
    "    cv2.ellipse(img,center_val,axis_len,0,0,360,color_val,-1)\n",
    "    i += 1\n",
    "\n",
    "#resize image\n",
    "img = cv2.resize(img,(0,0),fx=0.1,fy=0.1,interpolation = 3)\n",
    "\n",
    "#show result\n",
    "cv2.imshow('test',img)\n",
    "cv2.waitKey(0);"
   ]
  },
  {
   "cell_type": "markdown",
   "metadata": {},
   "source": [
    "<div class=\"alert alert-block alert-info\">\n",
    "<h3 class=\"alert-heading\">Shape function definition</h3>\n",
    "</div>\n",
    "\n",
    "4---------3\n",
    "\n",
    "1---------2"
   ]
  },
  {
   "cell_type": "code",
   "execution_count": 80,
   "metadata": {
    "scrolled": true
   },
   "outputs": [],
   "source": [
    "# The shape function is loosly defined and is only valid for reactangular 4-nodes quad elements.\n",
    "# It can be transfered to generic 4-nodes quad by revising the calculation of eps and nu.\n",
    "def FourNodeQuad(posnodes, dispnodes, X, Y):\n",
    "    width = posnodes[1][0] - posnodes[0][0]\n",
    "    height = width = posnodes[3][1] - posnodes[0][1]\n",
    "    mult = 0.25\n",
    "\n",
    "    eps = X/(width/2) - (posnodes[0][0] + 1)\n",
    "    nu = Y/(height/2) - (posnodes[0][1] + 1)\n",
    "    #definition of each node shape function value\n",
    "    shp_f1 = mult * (1-eps) * (1-nu)\n",
    "    shp_f2 = mult * (1+eps) * (1-nu)\n",
    "    shp_f3 = mult * (1+eps) * (1+nu)\n",
    "    shp_f4 = mult * (1-eps) * (1+nu)\n",
    "    # computation of displacement at target point\n",
    "    res_disp = [np.sum([shp_f1*dispnodes[0][0], shp_f2*dispnodes[1][0], shp_f3*dispnodes[2][0], shp_f4*dispnodes[3][0]],\n",
    "                      axis=0),\n",
    "                np.sum([shp_f1*dispnodes[0][1], shp_f2*dispnodes[1][1], shp_f3*dispnodes[2][1], shp_f4*dispnodes[3][1]],\n",
    "                      axis=0)]\n",
    "    return res_disp\n",
    "\n",
    "#posnodes = [[2,2], [4,2], [4,4], [2,4]]\n",
    "#dispnodes = [[0,0], [0.5,0], [0.5,0], [0,0]]\n",
    "#X = np.array([2.5,3])\n",
    "#Y = np.array([3,3])\n",
    "#FourNodeQuad(posnodes, dispnodes, X, Y)"
   ]
  },
  {
   "cell_type": "markdown",
   "metadata": {},
   "source": [
    "<div class=\"alert alert-block alert-info\">\n",
    "<h3 class=\"alert-heading\">Displacement field & Deformed image calculation</h3>\n",
    "</div>"
   ]
  },
  {
   "cell_type": "code",
   "execution_count": 90,
   "metadata": {},
   "outputs": [
    {
     "data": {
      "text/plain": [
       "[[0, 0], [255, 0], [255, 255], [0, 255]]"
      ]
     },
     "execution_count": 90,
     "metadata": {},
     "output_type": "execute_result"
    }
   ],
   "source": [
    "#assume initial node positions from image dims\n",
    "img_dims = np.array(img.shape)-1\n",
    "posnodes = [[0,0], [img_dims[0],0], [img_dims[0],img_dims[1]], [0,img_dims[1]]]\n",
    "#draw displacement values in pixels\n",
    "disps = np.round(np.random.randn(4,2)*10,1)\n",
    "\n",
    "#compute displacement of each pixel of the image\n"
   ]
  }
 ],
 "metadata": {
  "kernelspec": {
   "display_name": "Python [conda env:envOpenCV]",
   "language": "python",
   "name": "conda-env-envOpenCV-py"
  },
  "language_info": {
   "codemirror_mode": {
    "name": "ipython",
    "version": 3
   },
   "file_extension": ".py",
   "mimetype": "text/x-python",
   "name": "python",
   "nbconvert_exporter": "python",
   "pygments_lexer": "ipython3",
   "version": "3.5.5"
  }
 },
 "nbformat": 4,
 "nbformat_minor": 2
}
