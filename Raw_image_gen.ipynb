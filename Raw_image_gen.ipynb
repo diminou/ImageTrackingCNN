{
 "cells": [
  {
   "cell_type": "code",
   "execution_count": 3,
   "metadata": {},
   "outputs": [],
   "source": [
    "import cv2\n",
    "import numpy as np"
   ]
  },
  {
   "cell_type": "code",
   "execution_count": 68,
   "metadata": {},
   "outputs": [],
   "source": [
    "#Create background\n",
    "img = np.full((2560,2560), np.random.randint(230,255),dtype = np.uint8)\n",
    "\n",
    "nb_speckles = np.random.randint(5e3,7e3)\n",
    "\n",
    "i=0\n",
    "while(i<nb_speckles):\n",
    "\n",
    "    #random ellipse parameters\n",
    "    center_val = (np.random.randint(0,2560),np.random.randint(0,2560))\n",
    "    axis_len = (np.random.randint(8,18),np.random.randint(8,18))\n",
    "    color_val = np.random.randint(0,90)\n",
    "    \n",
    "    #draw the ellipse\n",
    "    cv2.ellipse(img,center_val,axis_len,0,0,360,color_val,-1)\n",
    "    i += 1\n",
    "\n",
    "#resize image\n",
    "img = cv2.resize(img,(0,0),fx=0.1,fy=0.1,interpolation = 3)\n",
    "\n",
    "#show result\n",
    "cv2.imshow('test',img)\n",
    "cv2.waitKey(0);"
   ]
  },
  {
   "cell_type": "code",
   "execution_count": null,
   "metadata": {},
   "outputs": [],
   "source": [
    "#Create displacement field\n",
    "#Two points are fixed, two are moving\n",
    "pt_fixed = (1,3)\n",
    "pt_move = (2,4)\n",
    "\n",
    "#draw displacement values in pixels\n",
    "disps = np.random.randn"
   ]
  }
 ],
 "metadata": {
  "kernelspec": {
   "display_name": "Python 3",
   "language": "python",
   "name": "python3"
  },
  "language_info": {
   "codemirror_mode": {
    "name": "ipython",
    "version": 3
   },
   "file_extension": ".py",
   "mimetype": "text/x-python",
   "name": "python",
   "nbconvert_exporter": "python",
   "pygments_lexer": "ipython3",
   "version": "3.5.4"
  }
 },
 "nbformat": 4,
 "nbformat_minor": 2
}
