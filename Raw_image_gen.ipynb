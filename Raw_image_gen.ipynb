{
 "cells": [
  {
   "cell_type": "code",
   "execution_count": 2,
   "metadata": {},
   "outputs": [],
   "source": [
    "import numpy as np\n",
    "from matplotlib import pyplot as plt\n",
    "import cv2\n",
    "from scipy import interpolate\n",
    "%matplotlib inline"
   ]
  },
  {
   "cell_type": "markdown",
   "metadata": {},
   "source": [
    "<div class=\"alert alert-block alert-info\">\n",
    "<h3 class=\"alert-heading\">Random image generation</h3>\n",
    "</div>"
   ]
  },
  {
   "cell_type": "code",
   "execution_count": 3,
   "metadata": {},
   "outputs": [],
   "source": [
    "def CreateImage():\n",
    "    #Create background\n",
    "    img = np.full((2560,2560), np.random.randint(230,255),dtype = np.uint8)\n",
    "\n",
    "    nb_speckles = np.random.randint(5e3,7e3)\n",
    "\n",
    "    i=0\n",
    "    while(i<nb_speckles):\n",
    "        #random ellipse parameters\n",
    "        center_val = (np.random.randint(0,2560),np.random.randint(0,2560))\n",
    "        axis_len = (np.random.randint(8,18),np.random.randint(8,18))\n",
    "        color_val = np.random.randint(0,90)\n",
    "    \n",
    "        #draw the ellipse\n",
    "        cv2.ellipse(img,center_val,axis_len,0,0,360,color_val,-1)\n",
    "        i += 1\n",
    "\n",
    "    #resize image\n",
    "    img = cv2.resize(img,(0,0),fx=0.1,fy=0.1,interpolation = 3)\n",
    "    \n",
    "    return img"
   ]
  },
  {
   "cell_type": "markdown",
   "metadata": {},
   "source": [
    "<div class=\"alert alert-block alert-info\">\n",
    "<h3 class=\"alert-heading\">Shape function definition</h3>\n",
    "</div>\n",
    "\n",
    "4---------3\n",
    "\n",
    "1---------2"
   ]
  },
  {
   "cell_type": "code",
   "execution_count": 4,
   "metadata": {
    "scrolled": true
   },
   "outputs": [],
   "source": [
    "# The shape function is loosly defined and is only valid for reactangular 4-nodes quad elements.\n",
    "# It can be transfered to generic 4-nodes quad by revising the calculation of eps and nu.\n",
    "def FourNodeQuad(posnodes, dispnodes, X, Y):\n",
    "    width = posnodes[1][0] - posnodes[0][0]\n",
    "    height = width = posnodes[3][1] - posnodes[0][1]\n",
    "    mult = 0.25\n",
    "\n",
    "    eps = X/(width/2) - (posnodes[0][0] + 1)\n",
    "    nu = Y/(height/2) - (posnodes[0][1] + 1)\n",
    "    #definition of each node shape function value\n",
    "    shp_f1 = mult * (1-eps) * (1-nu)\n",
    "    shp_f2 = mult * (1+eps) * (1-nu)\n",
    "    shp_f3 = mult * (1+eps) * (1+nu)\n",
    "    shp_f4 = mult * (1-eps) * (1+nu)\n",
    "    # computation of displacement at target point\n",
    "    res_disp = [np.sum([shp_f1*dispnodes[0][0], shp_f2*dispnodes[1][0], shp_f3*dispnodes[2][0], shp_f4*dispnodes[3][0]],\n",
    "                      axis=0),\n",
    "                np.sum([shp_f1*dispnodes[0][1], shp_f2*dispnodes[1][1], shp_f3*dispnodes[2][1], shp_f4*dispnodes[3][1]],\n",
    "                      axis=0)]\n",
    "    return res_disp\n",
    "\n",
    "#posnodes = [[2,2], [4,2], [4,4], [2,4]]\n",
    "#dispnodes = [[0,0], [0.5,0], [0.5,0], [0,0]]\n",
    "#X = np.array([2.5,3])\n",
    "#Y = np.array([3,3])\n",
    "#FourNodeQuad(posnodes, dispnodes, X, Y)"
   ]
  },
  {
   "cell_type": "markdown",
   "metadata": {},
   "source": [
    "<div class=\"alert alert-block alert-info\">\n",
    "<h3 class=\"alert-heading\">Displacement field & Deformed image calculation</h3>\n",
    "</div>"
   ]
  },
  {
   "cell_type": "code",
   "execution_count": 5,
   "metadata": {},
   "outputs": [],
   "source": [
    "def DistortImage(img, method='rand_disp', met_interp='linear', disps=None):   \n",
    "    #assume initial node positions from image dims\n",
    "    img_dims = np.array(img.shape)\n",
    "    posnodes = [[0,0], [img_dims[0],0], [img_dims[0],img_dims[1]], [0,img_dims[1]]]\n",
    "    \n",
    "    if(method==\"rand_disp\"):\n",
    "        #draw displacement values in pixels\n",
    "        disps = np.round(np.random.randn(4,2)*5,1)\n",
    "\n",
    "    #compute displacement of each pixel of the image\n",
    "    x = np.arange(0, img_dims[0], 1)\n",
    "    y = np.arange(0, img_dims[1], 1)\n",
    "    xv, yv = np.meshgrid(x, y)\n",
    "    mat_fullfield = FourNodeQuad(posnodes, disps, xv, yv)\n",
    "\n",
    "    #compute new pixels positions\n",
    "    xv_new = xv + mat_fullfield[0]\n",
    "    yv_new = yv + mat_fullfield[1]\n",
    "    \n",
    "    #interpolate new image\n",
    "    img_def = interpolate.griddata(points=np.array([xv_new.flatten(), yv_new.flatten()]).transpose(), \n",
    "                                   values=img.flatten(), \n",
    "                                   xi=np.array([xv.flatten(), yv.flatten()]).transpose(),\n",
    "                                   method=met_interp,\n",
    "                                   fill_value=0)\n",
    "    img_def = img_def.reshape(256,256).astype('uint8')\n",
    "    \n",
    "    return {'image':img_def, 'disp':mat_fullfield}"
   ]
  },
  {
   "cell_type": "markdown",
   "metadata": {},
   "source": [
    "<div class=\"alert alert-block alert-info\">\n",
    "<h3 class=\"alert-heading\">Example image generation</h3>\n",
    "</div>"
   ]
  },
  {
   "cell_type": "code",
   "execution_count": null,
   "metadata": {},
   "outputs": [],
   "source": [
    "#show result\n",
    "img = CreateImage()\n",
    "cv2.imshow('img_ori',img)\n",
    "img_def = DistortImage(img)\n",
    "cv2.imshow('img_def',img_def['image'])\n",
    "cv2.waitKey(0);\n",
    "cv2.destroyAllWindows()"
   ]
  },
  {
   "cell_type": "code",
   "execution_count": null,
   "metadata": {},
   "outputs": [],
   "source": []
  }
 ],
 "metadata": {
  "kernelspec": {
   "display_name": "cv",
   "language": "python",
   "name": "cv"
  },
  "language_info": {
   "codemirror_mode": {
    "name": "ipython",
    "version": 3
   },
   "file_extension": ".py",
   "mimetype": "text/x-python",
   "name": "python",
   "nbconvert_exporter": "python",
   "pygments_lexer": "ipython3",
   "version": "3.5.2"
  }
 },
 "nbformat": 4,
 "nbformat_minor": 2
}
