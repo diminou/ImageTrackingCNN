{
 "cells": [
  {
   "cell_type": "code",
   "execution_count": 1,
   "metadata": {},
   "outputs": [],
   "source": [
    "import numpy as np\n",
    "import pandas as pd\n",
    "import cv2\n",
    "from scipy import interpolate\n",
    "from scipy import ndimage\n",
    "import scipy\n",
    "from matplotlib import pyplot as plt\n",
    "%matplotlib inline"
   ]
  },
  {
   "cell_type": "markdown",
   "metadata": {},
   "source": [
    "<div class=\"alert alert-block alert-info\">\n",
    "<h3 class=\"alert-heading\">Generate pairs of images and save them</h3>\n",
    "</div>"
   ]
  },
  {
   "cell_type": "code",
   "execution_count": 2,
   "metadata": {},
   "outputs": [],
   "source": [
    "# Uses the PyDIC lib (https://gitlab.com/damien.andre/pydic)\n",
    "import imp\n",
    "pydic = imp.load_source('pydic', '../pydic/pydic.py')"
   ]
  },
  {
   "cell_type": "code",
   "execution_count": 3,
   "metadata": {},
   "outputs": [],
   "source": [
    "def CreateImage(rescaled_imgsize, scaling_factor):\n",
    "    #Create background\n",
    "    big_imgsize = int(rescaled_imgsize / scaling_factor)\n",
    "    full_imgsize = big_imgsize\n",
    "    img = np.full((full_imgsize, full_imgsize),\n",
    "        np.random.randint(230,255),dtype = np.uint8)\n",
    "\n",
    "    nb_speckles = np.random.randint(1e3,2e3)\n",
    "\n",
    "    i=0\n",
    "    while(i<nb_speckles):\n",
    "        #random ellipse parameters\n",
    "        center_val = (np.random.randint(0,full_imgsize),np.random.randint(0,full_imgsize))\n",
    "        axis_len = (np.random.randint(8,18),np.random.randint(8,18))\n",
    "        color_val = np.random.randint(0,90)\n",
    "        \n",
    "        #draw the ellipse\n",
    "        cv2.ellipse(img,center_val,axis_len,0,0,360,color_val,-1)\n",
    "        i += 1\n",
    "\n",
    "    #resize image\n",
    "    img = cv2.resize(img,(0,0),fx=scaling_factor, fy=scaling_factor,interpolation = 3) \n",
    "    return img"
   ]
  },
  {
   "cell_type": "code",
   "execution_count": 4,
   "metadata": {},
   "outputs": [],
   "source": [
    "def deform_matrix(seed, shape, sigmas, smoothing_sigmas, base_max=10.0):\n",
    "    x_location = np.random.randint(shape[0])\n",
    "    y_location = np.random.randint(shape[1])\n",
    "    x_displacement = np.random.uniform(-sigmas[0], sigmas[0])\n",
    "    y_displacement = np.random.uniform(-sigmas[1], sigmas[1])\n",
    "    dummy_xs = np.zeros(shape)\n",
    "    dummy_ys = np.zeros(shape)\n",
    "    dummy_xs[x_location, y_location] = x_displacement\n",
    "    dummy_ys[x_location, y_location] = y_displacement\n",
    "    smooth_xs = scipy.ndimage.gaussian_filter(dummy_xs, smoothing_sigmas[0])\n",
    "    smooth_ys = scipy.ndimage.gaussian_filter(dummy_ys, smoothing_sigmas[1])\n",
    "    smooth_xs = smooth_xs * (base_max / np.abs(smooth_xs).max())\n",
    "    smooth_ys = smooth_ys * (base_max / np.abs(smooth_ys).max())\n",
    "    return (smooth_xs, smooth_ys)"
   ]
  },
  {
   "cell_type": "code",
   "execution_count": 5,
   "metadata": {},
   "outputs": [],
   "source": [
    "def shift_elements(original, deformations):\n",
    "    x_def, y_def = deformations\n",
    "    def shift_func(image):\n",
    "        return (image[0] - x_def[image], image[1] - y_def[image])\n",
    "    return ndimage.geometric_transform(original, shift_func)"
   ]
  },
  {
   "cell_type": "code",
   "execution_count": 6,
   "metadata": {},
   "outputs": [],
   "source": [
    "def generate_pair(seed, displacement_sigmas, smoothing_sigmas, imsize=64, scaling_factor=0.1):\n",
    "    orig = CreateImage(imsize, scaling_factor)\n",
    "    deformations = deform_matrix(seed, orig.shape, displacement_sigmas, smoothing_sigmas)\n",
    "    shifted = shift_elements(orig, deformations)\n",
    "    return ((orig, shifted), deformations)"
   ]
  },
  {
   "cell_type": "code",
   "execution_count": 7,
   "metadata": {},
   "outputs": [],
   "source": [
    "seeds = [23,9876,567,3,51,4509812]\n",
    "for i in range(5):\n",
    "    data = generate_pair(seed=seeds[i], displacement_sigmas=(20.0, 20.0), smoothing_sigmas=(7, 7))\n",
    "    oriim = data[0][0]\n",
    "    defim = data[0][1]\n",
    "    cv2.imwrite( \"./data/\"+str(i)+\"/00.tiff\", oriim );\n",
    "    cv2.imwrite( \"./data/\"+str(i)+\"/01.tiff\", defim );"
   ]
  },
  {
   "cell_type": "markdown",
   "metadata": {},
   "source": [
    "<div class=\"alert alert-block alert-info\">\n",
    "<h3 class=\"alert-heading\">Run DIC on images</h3>\n",
    "</div>"
   ]
  },
  {
   "cell_type": "code",
   "execution_count": 12,
   "metadata": {},
   "outputs": [
    {
     "name": "stdout",
     "output_type": "stream",
     "text": [
      "reading image 1 / 2 : \"./data/0\\01.tiff\"\n",
      "\n",
      "compute displacement and strain field of ./data/0\\00.tiff ...\n",
      "interpolate displacement with spline method\n",
      "saving ./data/0/pydic/marker/00_marker.png file...\n",
      "saving ./data/0/pydic/disp/00_disp.png file...\n",
      "saving ./data/0/pydic/grid/00_grid.png file...\n",
      "saving ./data/0/pydic/result/00_result.csv file...\n",
      "\n",
      "compute displacement and strain field of ./data/0\\01.tiff ...\n",
      "interpolate displacement with spline method\n",
      "saving ./data/0/pydic/marker/01_marker.png file...\n",
      "saving ./data/0/pydic/disp/01_disp.png file...\n",
      "saving ./data/0/pydic/grid/01_grid.png file...\n",
      "saving ./data/0/pydic/result/01_result.csv file...\n",
      "reading image 1 / 2 : \"./data/1\\01.tiff\"\n",
      "\n",
      "compute displacement and strain field of ./data/1\\00.tiff ...\n",
      "interpolate displacement with spline method\n",
      "saving ./data/1/pydic/marker/00_marker.png file...\n",
      "saving ./data/1/pydic/disp/00_disp.png file...\n",
      "saving ./data/1/pydic/grid/00_grid.png file...\n",
      "saving ./data/1/pydic/result/00_result.csv file...\n",
      "\n",
      "compute displacement and strain field of ./data/1\\01.tiff ...\n",
      "interpolate displacement with spline method\n",
      "saving ./data/1/pydic/marker/01_marker.png file...\n",
      "saving ./data/1/pydic/disp/01_disp.png file...\n",
      "saving ./data/1/pydic/grid/01_grid.png file...\n",
      "saving ./data/1/pydic/result/01_result.csv file...\n",
      "reading image 1 / 2 : \"./data/2\\01.tiff\"\n",
      "\n",
      "compute displacement and strain field of ./data/2\\00.tiff ...\n",
      "interpolate displacement with spline method\n",
      "saving ./data/2/pydic/marker/00_marker.png file...\n",
      "saving ./data/2/pydic/disp/00_disp.png file...\n",
      "saving ./data/2/pydic/grid/00_grid.png file...\n",
      "saving ./data/2/pydic/result/00_result.csv file...\n",
      "\n",
      "compute displacement and strain field of ./data/2\\01.tiff ...\n",
      "interpolate displacement with spline method\n",
      "saving ./data/2/pydic/marker/01_marker.png file...\n",
      "saving ./data/2/pydic/disp/01_disp.png file...\n",
      "saving ./data/2/pydic/grid/01_grid.png file...\n",
      "saving ./data/2/pydic/result/01_result.csv file...\n",
      "reading image 1 / 2 : \"./data/3\\01.tiff\"\n",
      "\n",
      "compute displacement and strain field of ./data/3\\00.tiff ...\n",
      "interpolate displacement with spline method\n",
      "saving ./data/3/pydic/marker/00_marker.png file...\n",
      "saving ./data/3/pydic/disp/00_disp.png file...\n",
      "saving ./data/3/pydic/grid/00_grid.png file...\n",
      "saving ./data/3/pydic/result/00_result.csv file...\n",
      "\n",
      "compute displacement and strain field of ./data/3\\01.tiff ...\n",
      "interpolate displacement with spline method\n",
      "saving ./data/3/pydic/marker/01_marker.png file...\n",
      "saving ./data/3/pydic/disp/01_disp.png file...\n",
      "saving ./data/3/pydic/grid/01_grid.png file...\n",
      "saving ./data/3/pydic/result/01_result.csv file...\n",
      "reading image 1 / 2 : \"./data/4\\01.tiff\"\n",
      "\n",
      "compute displacement and strain field of ./data/4\\00.tiff ...\n",
      "interpolate displacement with spline method\n",
      "saving ./data/4/pydic/marker/00_marker.png file...\n",
      "saving ./data/4/pydic/disp/00_disp.png file...\n",
      "saving ./data/4/pydic/grid/00_grid.png file...\n",
      "saving ./data/4/pydic/result/00_result.csv file...\n",
      "\n",
      "compute displacement and strain field of ./data/4\\01.tiff ...\n",
      "interpolate displacement with spline method\n",
      "saving ./data/4/pydic/marker/01_marker.png file...\n",
      "saving ./data/4/pydic/disp/01_disp.png file...\n",
      "saving ./data/4/pydic/grid/01_grid.png file...\n",
      "saving ./data/4/pydic/result/01_result.csv file...\n"
     ]
    }
   ],
   "source": [
    "correl_wind_size = (8,8)\n",
    "correl_grid_size = (2,2)\n",
    "for i in range(5):\n",
    "    pydic = imp.load_source('pydic', '../pydic/pydic.py')\n",
    "    pydic.init(image_pattern=\"./data/\"+str(i)+\"/*.tiff\",\n",
    "               win_size_px=correl_wind_size,\n",
    "               grid_size_px=correl_grid_size,\n",
    "               result_file=\"./data/\"+str(i)+\"/result.dic\",\n",
    "               area_of_intersest=[[0,0],[64,64]])\n",
    "    pydic.read_dic_file(\"./data/\"+str(i)+\"/result.dic\", interpolation='spline')\n",
    "    #Get displacements\n",
    "    last_grid = pydic.grid_list[-1]\n",
    "    #write displacements to file\n",
    "    df_dic = pd.DataFrame({'xpos':last_grid.grid_x.flatten(),\n",
    "             'ypos':last_grid.grid_y.flatten(),\n",
    "             'ux':last_grid.disp_x.flatten(),\n",
    "             'uy':last_grid.disp_y.flatten()})\n",
    "    df_dic.to_csv(\"./data/DIC\"+str(i)+\".csv\",sep=';', index=False)\n",
    "    "
   ]
  }
 ],
 "metadata": {
  "kernelspec": {
   "display_name": "Python [conda env:envOpenCV]",
   "language": "python",
   "name": "conda-env-envOpenCV-py"
  },
  "language_info": {
   "codemirror_mode": {
    "name": "ipython",
    "version": 3
   },
   "file_extension": ".py",
   "mimetype": "text/x-python",
   "name": "python",
   "nbconvert_exporter": "python",
   "pygments_lexer": "ipython3",
   "version": "3.5.5"
  }
 },
 "nbformat": 4,
 "nbformat_minor": 2
}
